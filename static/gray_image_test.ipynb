{
 "cells": [
  {
   "cell_type": "code",
   "execution_count": 10,
   "metadata": {},
   "outputs": [],
   "source": [
    "from functions import *\n",
    "from keras.models import load_model\n",
    "import pandas as pd\n",
    "import numpy as np\n",
    "import cv2\n",
    "import pprint as pp"
   ]
  },
  {
   "cell_type": "code",
   "execution_count": 11,
   "metadata": {},
   "outputs": [
    {
     "name": "stderr",
     "output_type": "stream",
     "text": [
      "C:\\Users\\Josh\\Anaconda3\\envs\\PythonData\\lib\\site-packages\\keras\\engine\\saving.py:327: UserWarning: Error in loading the saved optimizer state. As a result, your model is starting with a freshly initialized optimizer.\n",
      "  warnings.warn('Error in loading the saved optimizer '\n"
     ]
    }
   ],
   "source": [
    "emotion_model_path = 'models/fer2013_mini_XCEPTION.119-0.65.hdf5'\n",
    "cascade_model_path = 'models/haarcascade_frontalface_default.xml'\n",
    "\n",
    "emotion_classifier = load_model(emotion_model_path)\n",
    "face_classifier = cv2.CascadeClassifier(cascade_model_path)\n",
    "\n",
    "emotion_target_size = emotion_classifier.input_shape[1:3]\n",
    "\n",
    "emotion_labels = {\n",
    "    0: 'angry',\n",
    "    1: 'disgust',\n",
    "    2: 'fear',\n",
    "    3: 'happy',\n",
    "    4: 'sad',\n",
    "    5: 'surprise',\n",
    "    6: 'neutral'\n",
    "}"
   ]
  },
  {
   "cell_type": "code",
   "execution_count": 12,
   "metadata": {},
   "outputs": [],
   "source": [
    "emotion_offsets = (20, 40)\n",
    "\n",
    "emotion_window = []\n",
    "\n",
    "picture = cv2.imread('img/graytest.jpg', 0)"
   ]
  },
  {
   "cell_type": "code",
   "execution_count": 14,
   "metadata": {},
   "outputs": [
    {
     "name": "stdout",
     "output_type": "stream",
     "text": [
      "[[221 222 224 ... 233 231 231]\n",
      " [221 221 223 ... 236 235 232]\n",
      " [219 220 222 ... 239 238 236]\n",
      " ...\n",
      " [140 142 145 ... 164 145 155]\n",
      " [123 125 130 ... 164 140 153]\n",
      " [120 124 126 ... 154 143 143]]\n"
     ]
    }
   ],
   "source": [
    "\n",
    "# gray_image = cv2.imread_gray_scale(picture, cv2.COLOR_BGR2GRAY)\n",
    "gray_image = picture\n",
    "    \n",
    "    \n",
    "# faces = face_classifier.detectMultiScale(gray_image, scaleFactor=1.1, minNeighbors=5, minSize=(30, 30), flags=cv2.CASCADE_SCALE_IMAGE)\n",
    "faces = face_classifier.detectMultiScale(gray_image, 1.4, 5, minSize=(30,30))    \n",
    "for face_coords in faces:\n",
    "\n",
    "    x1, x2, y1, y2 = apply_offsets(face_coords, emotion_offsets)\n",
    "    gray_face = gray_image[y1:y2, x1:x2]\n",
    "    gray_face = cv2.resize(gray_face, (emotion_target_size))\n",
    "    print(gray_face)\n",
    "\n",
    "gray_face = preprocess_input(gray_face, True)\n",
    "gray_face = np.expand_dims(gray_face, 0)\n",
    "gray_face = np.expand_dims(gray_face, -1)\n",
    "emotion_prediction = emotion_classifier.predict(gray_face)\n",
    "emotion_probability = np.max(emotion_prediction)\n",
    "emotion_label_arg = np.argmax(emotion_prediction)\n",
    "emotion_text = emotion_labels[emotion_label_arg]\n",
    "emotion_window.append(emotion_text)\n",
    "\n",
    "    "
   ]
  },
  {
   "cell_type": "code",
   "execution_count": 18,
   "metadata": {},
   "outputs": [
    {
     "name": "stdout",
     "output_type": "stream",
     "text": [
      "[[1.5441360e-04 9.8404396e-09 4.2526319e-04 9.6796429e-01 8.7923094e-05\n",
      "  3.8265658e-03 2.7541488e-02]]\n",
      "0.9679643\n",
      "3\n"
     ]
    }
   ],
   "source": [
    "print(emotion_prediction)\n",
    "print(np.max(emotion_prediction))\n",
    "print(np.argmax(emotion_prediction))"
   ]
  },
  {
   "cell_type": "code",
   "execution_count": 7,
   "metadata": {},
   "outputs": [
    {
     "data": {
      "text/plain": [
       "(480, 600)"
      ]
     },
     "execution_count": 7,
     "metadata": {},
     "output_type": "execute_result"
    }
   ],
   "source": [
    "picture.shape"
   ]
  },
  {
   "cell_type": "code",
   "execution_count": 15,
   "metadata": {},
   "outputs": [
    {
     "data": {
      "text/plain": [
       "array([[ 98,  90, 253, 253]], dtype=int32)"
      ]
     },
     "execution_count": 15,
     "metadata": {},
     "output_type": "execute_result"
    }
   ],
   "source": [
    "faces"
   ]
  },
  {
   "cell_type": "code",
   "execution_count": null,
   "metadata": {},
   "outputs": [],
   "source": []
  }
 ],
 "metadata": {
  "anaconda-cloud": {},
  "celltoolbar": "Slideshow",
  "kernelspec": {
   "display_name": "Python [conda env:PythonData]",
   "language": "python",
   "name": "conda-env-PythonData-py"
  },
  "language_info": {
   "codemirror_mode": {
    "name": "ipython",
    "version": 3
   },
   "file_extension": ".py",
   "mimetype": "text/x-python",
   "name": "python",
   "nbconvert_exporter": "python",
   "pygments_lexer": "ipython3",
   "version": "3.6.5"
  },
  "varInspector": {
   "cols": {
    "lenName": 16,
    "lenType": 16,
    "lenVar": 40
   },
   "kernels_config": {
    "python": {
     "delete_cmd_postfix": "",
     "delete_cmd_prefix": "del ",
     "library": "var_list.py",
     "varRefreshCmd": "print(var_dic_list())"
    },
    "r": {
     "delete_cmd_postfix": ") ",
     "delete_cmd_prefix": "rm(",
     "library": "var_list.r",
     "varRefreshCmd": "cat(var_dic_list()) "
    }
   },
   "types_to_exclude": [
    "module",
    "function",
    "builtin_function_or_method",
    "instance",
    "_Feature"
   ],
   "window_display": false
  }
 },
 "nbformat": 4,
 "nbformat_minor": 2
}
